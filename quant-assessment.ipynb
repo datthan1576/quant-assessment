{
 "cells": [
  {
   "cell_type": "markdown",
   "metadata": {},
   "source": [
    "### Import Libraries"
   ]
  },
  {
   "cell_type": "code",
   "execution_count": 54,
   "metadata": {
    "colab": {
     "base_uri": "https://localhost:8080/"
    },
    "executionInfo": {
     "elapsed": 2054,
     "status": "ok",
     "timestamp": 1710915758017,
     "user": {
      "displayName": "Quốc Đạt Thân",
      "userId": "04646797675533259968"
     },
     "user_tz": -420
    },
    "id": "0MbW6M867GEP",
    "outputId": "e10d2a75-6778-4304-b5ef-0880a9fea1f5"
   },
   "outputs": [],
   "source": [
    "import warnings\n",
    "warnings.filterwarnings(\"ignore\")\n",
    "\n",
    "import yfinance as yf\n",
    "import pandas as pd\n",
    "import numpy as np\n",
    "import talib as ta\n",
    "from backtesting import Backtest, Strategy\n",
    "import datetime"
   ]
  },
  {
   "cell_type": "markdown",
   "metadata": {
    "id": "AfhUenexhqSK"
   },
   "source": [
    "### Get data"
   ]
  },
  {
   "cell_type": "code",
   "execution_count": 55,
   "metadata": {
    "colab": {
     "base_uri": "https://localhost:8080/"
    },
    "executionInfo": {
     "elapsed": 1910,
     "status": "ok",
     "timestamp": 1710915759922,
     "user": {
      "displayName": "Quốc Đạt Thân",
      "userId": "04646797675533259968"
     },
     "user_tz": -420
    },
    "id": "eWHx2Q_g7MCH",
    "outputId": "3a959d34-332c-48b5-8ec4-d712eebe58c5"
   },
   "outputs": [
    {
     "name": "stderr",
     "output_type": "stream",
     "text": [
      "[*********************100%%**********************]  1 of 1 completed\n",
      "[*********************100%%**********************]  1 of 1 completed\n",
      "[*********************100%%**********************]  1 of 1 completed\n",
      "[*********************100%%**********************]  1 of 1 completed\n",
      "[*********************100%%**********************]  1 of 1 completed\n",
      "[*********************100%%**********************]  1 of 1 completed\n",
      "[*********************100%%**********************]  1 of 1 completed\n"
     ]
    }
   ],
   "source": [
    "tickers = ['MSFT', 'AAPL', 'NVDA', 'AMZN', 'GOOG', 'META', 'TSLA']\n",
    "\n",
    "# Define the start and end dates\n",
    "start_date = datetime.datetime(2013, 1, 1)\n",
    "end_date = datetime.datetime(2023, 12, 31)\n",
    "data = {}\n",
    "# Fetch historical data for each ticker\n",
    "for ticker in tickers:\n",
    "    data[ticker] = yf.download(ticker, start=start_date, end=end_date)"
   ]
  },
  {
   "cell_type": "code",
   "execution_count": 56,
   "metadata": {
    "colab": {
     "base_uri": "https://localhost:8080/"
    },
    "executionInfo": {
     "elapsed": 11,
     "status": "ok",
     "timestamp": 1710918388309,
     "user": {
      "displayName": "Quốc Đạt Thân",
      "userId": "04646797675533259968"
     },
     "user_tz": -420
    },
    "id": "1ymKz1to7Nsx",
    "outputId": "0cb5c707-467c-42d2-f933-a46592b5c94e"
   },
   "outputs": [
    {
     "data": {
      "text/html": [
       "<div>\n",
       "<style scoped>\n",
       "    .dataframe tbody tr th:only-of-type {\n",
       "        vertical-align: middle;\n",
       "    }\n",
       "\n",
       "    .dataframe tbody tr th {\n",
       "        vertical-align: top;\n",
       "    }\n",
       "\n",
       "    .dataframe thead th {\n",
       "        text-align: right;\n",
       "    }\n",
       "</style>\n",
       "<table border=\"1\" class=\"dataframe\">\n",
       "  <thead>\n",
       "    <tr style=\"text-align: right;\">\n",
       "      <th></th>\n",
       "      <th>Open</th>\n",
       "      <th>High</th>\n",
       "      <th>Low</th>\n",
       "      <th>Close</th>\n",
       "      <th>Adj Close</th>\n",
       "      <th>Volume</th>\n",
       "    </tr>\n",
       "    <tr>\n",
       "      <th>Date</th>\n",
       "      <th></th>\n",
       "      <th></th>\n",
       "      <th></th>\n",
       "      <th></th>\n",
       "      <th></th>\n",
       "      <th></th>\n",
       "    </tr>\n",
       "  </thead>\n",
       "  <tbody>\n",
       "    <tr>\n",
       "      <th>2013-01-02</th>\n",
       "      <td>27.250000</td>\n",
       "      <td>27.73</td>\n",
       "      <td>27.15</td>\n",
       "      <td>27.620001</td>\n",
       "      <td>22.532856</td>\n",
       "      <td>52899300</td>\n",
       "    </tr>\n",
       "    <tr>\n",
       "      <th>2013-01-03</th>\n",
       "      <td>27.629999</td>\n",
       "      <td>27.65</td>\n",
       "      <td>27.16</td>\n",
       "      <td>27.250000</td>\n",
       "      <td>22.231001</td>\n",
       "      <td>48294400</td>\n",
       "    </tr>\n",
       "    <tr>\n",
       "      <th>2013-01-04</th>\n",
       "      <td>27.270000</td>\n",
       "      <td>27.34</td>\n",
       "      <td>26.73</td>\n",
       "      <td>26.740000</td>\n",
       "      <td>21.814934</td>\n",
       "      <td>52521100</td>\n",
       "    </tr>\n",
       "  </tbody>\n",
       "</table>\n",
       "</div>"
      ],
      "text/plain": [
       "                 Open   High    Low      Close  Adj Close    Volume\n",
       "Date                                                               \n",
       "2013-01-02  27.250000  27.73  27.15  27.620001  22.532856  52899300\n",
       "2013-01-03  27.629999  27.65  27.16  27.250000  22.231001  48294400\n",
       "2013-01-04  27.270000  27.34  26.73  26.740000  21.814934  52521100"
      ]
     },
     "execution_count": 56,
     "metadata": {},
     "output_type": "execute_result"
    }
   ],
   "source": [
    "data['MSFT'].head(3)"
   ]
  },
  {
   "cell_type": "markdown",
   "metadata": {},
   "source": [
    "### Bollinger Bands Indicator"
   ]
  },
  {
   "cell_type": "code",
   "execution_count": 57,
   "metadata": {
    "executionInfo": {
     "elapsed": 339,
     "status": "ok",
     "timestamp": 1710918587001,
     "user": {
      "displayName": "Quốc Đạt Thân",
      "userId": "04646797675533259968"
     },
     "user_tz": -420
    },
    "id": "hI8m0uPahaTB"
   },
   "outputs": [],
   "source": [
    "def calculate_bollinger_bands(close, window, stddev):\n",
    "    upper_band, middle_band, lower_band = ta.BBANDS(close, timeperiod=window, nbdevup=stddev, nbdevdn=stddev)\n",
    "    return upper_band, middle_band, lower_band"
   ]
  },
  {
   "cell_type": "markdown",
   "metadata": {},
   "source": [
    "### Create Strategy Class using Backtesting.py "
   ]
  },
  {
   "cell_type": "code",
   "execution_count": 58,
   "metadata": {
    "executionInfo": {
     "elapsed": 387,
     "status": "ok",
     "timestamp": 1710919169486,
     "user": {
      "displayName": "Quốc Đạt Thân",
      "userId": "04646797675533259968"
     },
     "user_tz": -420
    },
    "id": "gXM80Vjk7kne"
   },
   "outputs": [],
   "source": [
    "class DoubleBollingerBand(Strategy):\n",
    "    \n",
    "    window = 20\n",
    "    nbdev1 = 2\n",
    "    nbdev2 = 1\n",
    "    size = 1\n",
    "    \n",
    "    def init(self):\n",
    "        \"\"\"\n",
    "        a1 > b1 > x > b2 > a2\n",
    "        a1 : high upper band\n",
    "        a2: low lower band\n",
    "        x: MA\n",
    "        b1: low upper band\n",
    "        b2: high lower band\n",
    "        \"\"\"\n",
    "        self.a1, self.x, self.a2 = self.I(calculate_bollinger_bands, self.data.Close,  self.window, self.nbdev1)\n",
    "        self.b1, self.x, self.b2 = self.I(calculate_bollinger_bands, self.data.Close, self.window, self.nbdev2)\n",
    "        \n",
    "    def next(self):\n",
    "        \"\"\"\n",
    "          Go Long if MA in A1-B1 Zone\n",
    "          Go Short if MA in B2-A2 Zone\n",
    "          Other: Close Position\n",
    "        \"\"\"\n",
    "        \n",
    "        if not self.position: # Current no position \n",
    "            \n",
    "            if self.b1[-1] < self.data.Close[-1] < self.a1[-1]: # In Buy Zone\n",
    "                self.buy(size=self.size)\n",
    "            elif self.a2[-1] < self.data.Close[-1] < self.b2[-1]: # In Sell Zone\n",
    "                self.sell(size=self.size)\n",
    "            else:\n",
    "                pass\n",
    "        \n",
    "        elif self.position.is_long: # Current long position \n",
    "            if self.a2[-1] < self.data.Close[-1] < self.b2[-1]: # In Sell Zone\n",
    "                self.position.close()\n",
    "                self.sell(size=self.size)\n",
    "            elif not (self.b1[-1] < self.data.Close[-1] < self.a1[-1]): # Not In Buy Zone\n",
    "                self.position.close()\n",
    "            else:\n",
    "                pass\n",
    "\n",
    "        elif self.position.is_short: # Current short position \n",
    "            if self.b1[-1] < self.data.Close[-1] < self.a1[-1]: # In Buy Zone\n",
    "                self.position.close()\n",
    "                self.buy(size=self.size)\n",
    "            elif not (self.a2[-1] < self.data.Close[-1] < self.b2[-1]): # Not In Sell Zone\n",
    "                self.position.close()\n",
    "            else:\n",
    "                pass"
   ]
  },
  {
   "cell_type": "markdown",
   "metadata": {
    "id": "MsQC7zOHrOCi"
   },
   "source": [
    "### Backtesting\n",
    "\n",
    "- Calculate: Total Return, Annual Return, Annual Volatlity, Sharpe Ratio, Sortino Ratio, Maximum Drawdown"
   ]
  },
  {
   "cell_type": "code",
   "execution_count": 59,
   "metadata": {
    "colab": {
     "base_uri": "https://localhost:8080/",
     "height": 321
    },
    "executionInfo": {
     "elapsed": 7,
     "status": "error",
     "timestamp": 1710919170153,
     "user": {
      "displayName": "Quốc Đạt Thân",
      "userId": "04646797675533259968"
     },
     "user_tz": -420
    },
    "id": "0EcEP3oCrMV-",
    "outputId": "b0531b1f-f3a6-4900-d600-f75ab81120dc"
   },
   "outputs": [],
   "source": [
    "# Parameters for backtesting\n",
    "WINDOW = 20\n",
    "NBDEV1 = 2\n",
    "NBDEV2 = 1\n",
    "SIZE = 1\n",
    "INITIAL_CASH = 10000"
   ]
  },
  {
   "cell_type": "code",
   "execution_count": 60,
   "metadata": {
    "id": "bNo0GqGPrm_T"
   },
   "outputs": [],
   "source": [
    "strategy = DoubleBollingerBand\n",
    "strategy.window = WINDOW\n",
    "strategy.nbdev1 = NBDEV1\n",
    "strategy.nbdev2 = NBDEV2\n",
    "strategy.size = SIZE"
   ]
  },
  {
   "cell_type": "code",
   "execution_count": 61,
   "metadata": {},
   "outputs": [],
   "source": [
    "# Run backtesting and save performance metrics\n",
    "backtesting_results = {}\n",
    "\n",
    "for symbol in data.keys():\n",
    "    bt = Backtest(data[symbol], strategy, cash=INITIAL_CASH)\n",
    "    output = bt.run()\n",
    "    # bt.plot(filename=f'{symbol}.html')\n",
    "    metrics = [output['Return [%]'], output['Return (Ann.) [%]'], output['Volatility (Ann.) [%]'], \n",
    "              output['Sharpe Ratio'], output['Sortino Ratio'], output['Max. Drawdown [%]']]\n",
    "    backtesting_results[symbol] = metrics"
   ]
  },
  {
   "cell_type": "code",
   "execution_count": 62,
   "metadata": {},
   "outputs": [
    {
     "data": {
      "text/html": [
       "<div>\n",
       "<style scoped>\n",
       "    .dataframe tbody tr th:only-of-type {\n",
       "        vertical-align: middle;\n",
       "    }\n",
       "\n",
       "    .dataframe tbody tr th {\n",
       "        vertical-align: top;\n",
       "    }\n",
       "\n",
       "    .dataframe thead th {\n",
       "        text-align: right;\n",
       "    }\n",
       "</style>\n",
       "<table border=\"1\" class=\"dataframe\">\n",
       "  <thead>\n",
       "    <tr style=\"text-align: right;\">\n",
       "      <th></th>\n",
       "      <th>MSFT</th>\n",
       "      <th>AAPL</th>\n",
       "      <th>NVDA</th>\n",
       "      <th>AMZN</th>\n",
       "      <th>GOOG</th>\n",
       "      <th>META</th>\n",
       "      <th>TSLA</th>\n",
       "    </tr>\n",
       "  </thead>\n",
       "  <tbody>\n",
       "    <tr>\n",
       "      <th>Total Return</th>\n",
       "      <td>-0.812901</td>\n",
       "      <td>0.641196</td>\n",
       "      <td>0.577375</td>\n",
       "      <td>-0.144520</td>\n",
       "      <td>-0.270949</td>\n",
       "      <td>-1.526202</td>\n",
       "      <td>2.127947</td>\n",
       "    </tr>\n",
       "    <tr>\n",
       "      <th>Annual Return</th>\n",
       "      <td>-0.074282</td>\n",
       "      <td>0.058205</td>\n",
       "      <td>0.052427</td>\n",
       "      <td>-0.013166</td>\n",
       "      <td>-0.024698</td>\n",
       "      <td>-0.139919</td>\n",
       "      <td>0.191881</td>\n",
       "    </tr>\n",
       "    <tr>\n",
       "      <th>Annual Volatlity</th>\n",
       "      <td>0.310505</td>\n",
       "      <td>0.181678</td>\n",
       "      <td>0.522185</td>\n",
       "      <td>0.217154</td>\n",
       "      <td>0.145689</td>\n",
       "      <td>0.444191</td>\n",
       "      <td>0.537772</td>\n",
       "    </tr>\n",
       "    <tr>\n",
       "      <th>Sharpe Ratio</th>\n",
       "      <td>0.000000</td>\n",
       "      <td>0.320376</td>\n",
       "      <td>0.100399</td>\n",
       "      <td>0.000000</td>\n",
       "      <td>0.000000</td>\n",
       "      <td>0.000000</td>\n",
       "      <td>0.356807</td>\n",
       "    </tr>\n",
       "    <tr>\n",
       "      <th>Sortino Ratio</th>\n",
       "      <td>0.000000</td>\n",
       "      <td>0.460633</td>\n",
       "      <td>0.158502</td>\n",
       "      <td>0.000000</td>\n",
       "      <td>0.000000</td>\n",
       "      <td>0.000000</td>\n",
       "      <td>0.520514</td>\n",
       "    </tr>\n",
       "    <tr>\n",
       "      <th>Maximum Drawdown</th>\n",
       "      <td>-1.369877</td>\n",
       "      <td>-0.442537</td>\n",
       "      <td>-1.451460</td>\n",
       "      <td>-0.609353</td>\n",
       "      <td>-0.574028</td>\n",
       "      <td>-2.010820</td>\n",
       "      <td>-1.356660</td>\n",
       "    </tr>\n",
       "  </tbody>\n",
       "</table>\n",
       "</div>"
      ],
      "text/plain": [
       "                      MSFT      AAPL      NVDA      AMZN      GOOG      META  \\\n",
       "Total Return     -0.812901  0.641196  0.577375 -0.144520 -0.270949 -1.526202   \n",
       "Annual Return    -0.074282  0.058205  0.052427 -0.013166 -0.024698 -0.139919   \n",
       "Annual Volatlity  0.310505  0.181678  0.522185  0.217154  0.145689  0.444191   \n",
       "Sharpe Ratio      0.000000  0.320376  0.100399  0.000000  0.000000  0.000000   \n",
       "Sortino Ratio     0.000000  0.460633  0.158502  0.000000  0.000000  0.000000   \n",
       "Maximum Drawdown -1.369877 -0.442537 -1.451460 -0.609353 -0.574028 -2.010820   \n",
       "\n",
       "                      TSLA  \n",
       "Total Return      2.127947  \n",
       "Annual Return     0.191881  \n",
       "Annual Volatlity  0.537772  \n",
       "Sharpe Ratio      0.356807  \n",
       "Sortino Ratio     0.520514  \n",
       "Maximum Drawdown -1.356660  "
      ]
     },
     "execution_count": 62,
     "metadata": {},
     "output_type": "execute_result"
    }
   ],
   "source": [
    "# Create Pandas DataFrame to compare performance\n",
    "backtesting_result_df = pd.DataFrame(backtesting_results)\n",
    "backtesting_result_df.index = ['Total Return', 'Annual Return', 'Annual Volatlity', 'Sharpe Ratio', 'Sortino Ratio', 'Maximum Drawdown']\n",
    "backtesting_result_df"
   ]
  },
  {
   "cell_type": "markdown",
   "metadata": {},
   "source": [
    "### End"
   ]
  }
 ],
 "metadata": {
  "colab": {
   "authorship_tag": "ABX9TyNSvDUm3lmId+1CS20UEUKW",
   "provenance": []
  },
  "kernelspec": {
   "display_name": "Python 3 (ipykernel)",
   "language": "python",
   "name": "python3"
  },
  "language_info": {
   "codemirror_mode": {
    "name": "ipython",
    "version": 3
   },
   "file_extension": ".py",
   "mimetype": "text/x-python",
   "name": "python",
   "nbconvert_exporter": "python",
   "pygments_lexer": "ipython3",
   "version": "3.9.5"
  }
 },
 "nbformat": 4,
 "nbformat_minor": 4
}
